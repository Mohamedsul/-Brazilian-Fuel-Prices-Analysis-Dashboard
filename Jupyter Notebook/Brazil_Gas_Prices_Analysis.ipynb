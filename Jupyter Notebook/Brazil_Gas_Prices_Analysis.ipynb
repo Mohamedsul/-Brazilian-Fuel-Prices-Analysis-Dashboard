{
 "cells": [
  {
   "cell_type": "code",
   "execution_count": 4,
   "id": "766c4eea",
   "metadata": {},
   "outputs": [
    {
     "name": "stdout",
     "output_type": "stream",
     "text": [
      "📊 Loading ANP Gas Prices Dataset...\n",
      "✅ Dataset loaded: 120,823 records\n"
     ]
    }
   ],
   "source": [
    "# Brazil Gas Prices Analysis - Complete Data Processing and Visualization\n",
    "# Petroleum Industry Analysis for ANP Data (2004-2021)\n",
    "\n",
    "# The Data\n",
    "# The National Agency of Petroleum, Natural Gas and Biofuels (ANP in Portuguese) releases weekly reports of gas, diesel, \n",
    "# and other fuel prices used in transportation across the country. These datasets bring the mean value per liter, \n",
    "# number of gas stations analyzed, and other information grouped by regions and states across the country.\n",
    "\n",
    "# Additional Notes\n",
    "# - Data is  available from 2004 to May 2021.\n",
    "# - NULL values are replaced with -99999.\n",
    "# - The dataset is in TSV format, which is tab-separated values.\n",
    "\n",
    "import pandas as pd\n",
    "import numpy as np\n",
    "import matplotlib.pyplot as plt\n",
    "import seaborn as sns\n",
    "\n",
    "import warnings\n",
    "warnings.filterwarnings('ignore')\n",
    "\n",
    "# Set styling\n",
    "plt.style.use('seaborn-v0_8')\n",
    "sns.set_palette(\"husl\")\n",
    "# Load the dataset\n",
    "print(\"📊 Loading ANP Gas Prices Dataset...\")\n",
    "df = pd.read_csv('2004-2021.tsv' , sep='\\t')\n",
    "\n",
    "print(f\"✅ Dataset loaded: {len(df):,} records\")\n"
   ]
  },
  {
   "cell_type": "code",
   "execution_count": 5,
   "id": "14d81e99",
   "metadata": {},
   "outputs": [
    {
     "name": "stdout",
     "output_type": "stream",
     "text": [
      "\n",
      "🔍 Displaying the first few rows of the dataset:\n",
      "  DATA INICIAL  DATA FINAL        REGIÃO              ESTADO  \\\n",
      "0   2004-05-09  2004-05-15  CENTRO OESTE    DISTRITO FEDERAL   \n",
      "1   2004-05-09  2004-05-15  CENTRO OESTE               GOIAS   \n",
      "2   2004-05-09  2004-05-15  CENTRO OESTE         MATO GROSSO   \n",
      "3   2004-05-09  2004-05-15  CENTRO OESTE  MATO GROSSO DO SUL   \n",
      "4   2004-05-09  2004-05-15      NORDESTE             ALAGOAS   \n",
      "\n",
      "            PRODUTO  NÚMERO DE POSTOS PESQUISADOS UNIDADE DE MEDIDA  \\\n",
      "0  ETANOL HIDRATADO                           127              R$/l   \n",
      "1  ETANOL HIDRATADO                           387              R$/l   \n",
      "2  ETANOL HIDRATADO                           192              R$/l   \n",
      "3  ETANOL HIDRATADO                           162              R$/l   \n",
      "4  ETANOL HIDRATADO                           103              R$/l   \n",
      "\n",
      "   PREÇO MÉDIO REVENDA  DESVIO PADRÃO REVENDA  PREÇO MÍNIMO REVENDA  \\\n",
      "0                1.288                  0.016                  1.19   \n",
      "1                1.162                  0.114                  0.89   \n",
      "2                1.389                  0.097                  1.18   \n",
      "3                1.262                  0.070                  1.09   \n",
      "4                1.181                  0.078                  1.05   \n",
      "\n",
      "   PREÇO MÁXIMO REVENDA MARGEM MÉDIA REVENDA  COEF DE VARIAÇÃO REVENDA  \\\n",
      "0                 1.350                0.463                     0.012   \n",
      "1                 1.449                0.399                     0.098   \n",
      "2                 1.760                0.419                     0.070   \n",
      "3                 1.509                0.432                     0.055   \n",
      "4                 1.400                 0.24                     0.066   \n",
      "\n",
      "  PREÇO MÉDIO DISTRIBUIÇÃO DESVIO PADRÃO DISTRIBUIÇÃO  \\\n",
      "0                    0.825                       0.11   \n",
      "1                    0.763                      0.088   \n",
      "2                     0.97                      0.095   \n",
      "3                     0.83                      0.119   \n",
      "4                    0.941                      0.077   \n",
      "\n",
      "  PREÇO MÍNIMO DISTRIBUIÇÃO PREÇO MÁXIMO DISTRIBUIÇÃO  \\\n",
      "0                    0.4201                    0.9666   \n",
      "1                    0.5013                      1.05   \n",
      "2                    0.5614                     1.161   \n",
      "3                    0.5991                   1.22242   \n",
      "4                    0.7441                    1.0317   \n",
      "\n",
      "  COEF DE VARIAÇÃO DISTRIBUIÇÃO  \n",
      "0                         0.133  \n",
      "1                         0.115  \n",
      "2                         0.098  \n",
      "3                         0.143  \n",
      "4                         0.082  \n"
     ]
    }
   ],
   "source": [
    "# check the first few rows of the dataset \n",
    "print(\"\\n🔍 Displaying the first few rows of the dataset:\")\n",
    "print(df.head())"
   ]
  },
  {
   "cell_type": "code",
   "execution_count": 6,
   "id": "3ea6d7c6",
   "metadata": {},
   "outputs": [
    {
     "name": "stdout",
     "output_type": "stream",
     "text": [
      "\n",
      "🌐 Translating column names from Portuguese to English...\n",
      "✅ Column names translated successfully:\n",
      "['start_date', 'end_date', 'region', 'state', 'product', 'stations_surveyed', 'unit_of_measure', 'avg_retail_price', 'retail_price_std', 'min_retail_price', 'max_retail_price', 'avg_retail_margin', 'retail_price_cv', 'avg_distribution_price', 'distribution_price_std', 'min_distribution_price', 'max_distribution_price', 'distribution_price_cv']\n"
     ]
    }
   ],
   "source": [
    "# COLUMN TRANSLATION (Portuguese to English)\n",
    "print(\"\\n🌐 Translating column names from Portuguese to English...\")\n",
    "# Define column translation mapping\n",
    "column_translation = {\n",
    "    'DATA INICIAL': 'start_date',\n",
    "    'DATA FINAL': 'end_date',\n",
    "    'REGIÃO': 'region',\n",
    "    'ESTADO': 'state',\n",
    "    'PRODUTO': 'product',\n",
    "    'NÚMERO DE POSTOS PESQUISADOS': 'stations_surveyed',\n",
    "    'UNIDADE DE MEDIDA': 'unit_of_measure',\n",
    "    'PREÇO MÉDIO REVENDA': 'avg_retail_price',\n",
    "    'DESVIO PADRÃO REVENDA': 'retail_price_std',\n",
    "    'PREÇO MÍNIMO REVENDA': 'min_retail_price',\n",
    "    'PREÇO MÁXIMO REVENDA': 'max_retail_price',\n",
    "    'MARGEM MÉDIA REVENDA': 'avg_retail_margin',\n",
    "    'COEF DE VARIAÇÃO REVENDA': 'retail_price_cv',\n",
    "    'PREÇO MÉDIO DISTRIBUIÇÃO': 'avg_distribution_price',\n",
    "    'DESVIO PADRÃO DISTRIBUIÇÃO': 'distribution_price_std',\n",
    "    'PREÇO MÍNIMO DISTRIBUIÇÃO': 'min_distribution_price',\n",
    "    'PREÇO MÁXIMO DISTRIBUIÇÃO': 'max_distribution_price',\n",
    "    'COEF DE VARIAÇÃO DISTRIBUIÇÃO': 'distribution_price_cv'\n",
    "}\n",
    "# Apply column translation\n",
    "df_english = df.rename(columns=column_translation)\n",
    "\n",
    "# Display translated columns\n",
    "print(\"✅ Column names translated successfully:\")\n",
    "print(df_english.columns.tolist())"
   ]
  },
  {
   "cell_type": "code",
   "execution_count": 7,
   "id": "a8432172",
   "metadata": {},
   "outputs": [
    {
     "name": "stdout",
     "output_type": "stream",
     "text": [
      "\n",
      "🔍 Checking unique product names before translation:\n",
      "['ETANOL HIDRATADO' 'GASOLINA COMUM' 'GLP' 'GNV' 'ÓLEO DIESEL'\n",
      " 'ÓLEO DIESEL S10' 'OLEO DIESEL' 'OLEO DIESEL S10' 'GASOLINA ADITIVADA']\n"
     ]
    }
   ],
   "source": [
    "# translate the product names lets first check the unique values\n",
    "print(\"\\n🔍 Checking unique product names before translation:\")\n",
    "print(df_english['product'].unique())"
   ]
  },
  {
   "cell_type": "code",
   "execution_count": 8,
   "id": "b848f0f3",
   "metadata": {},
   "outputs": [
    {
     "name": "stdout",
     "output_type": "stream",
     "text": [
      "\n",
      "🌐 Translating product names from Portuguese to English...\n"
     ]
    },
    {
     "name": "stdout",
     "output_type": "stream",
     "text": [
      "✅ Product names translated successfully:\n"
     ]
    }
   ],
   "source": [
    "# translate the product names\n",
    "print(\"\\n🌐 Translating product names from Portuguese to English...\")\n",
    "product_translation = {\n",
    "     'ETANOL HIDRATADO': 'HYDRATED ETHANOL',\n",
    "    'GASOLINA COMUM': 'REGULAR GASOLINE',\n",
    "    'GLP': 'LPG',\n",
    "    'GNV': 'NGV',\n",
    "    'ÓLEO DIESEL': 'DIESEL OIL',\n",
    "    'ÓLEO DIESEL S10': 'DIESEL OIL S10',\n",
    "    'OLEO DIESEL': 'DIESEL OIL',\n",
    "    'OLEO DIESEL S10': 'DIESEL OIL S10',\n",
    "    'GASOLINA ADITIVADA': 'ADDITIVE GASOLINE'\n",
    "}\n",
    "# Apply product translation\n",
    "df_english['product'] = df_english['product'].replace(product_translation)\n",
    "\n",
    "print(\"✅ Product names translated successfully:\")"
   ]
  },
  {
   "cell_type": "code",
   "execution_count": 9,
   "id": "af9eea04",
   "metadata": {},
   "outputs": [
    {
     "name": "stdout",
     "output_type": "stream",
     "text": [
      "\n",
      "🔍 Checking dataset information...\n",
      "<class 'pandas.core.frame.DataFrame'>\n",
      "RangeIndex: 120823 entries, 0 to 120822\n",
      "Data columns (total 18 columns):\n",
      " #   Column                  Non-Null Count   Dtype  \n",
      "---  ------                  --------------   -----  \n",
      " 0   start_date              120823 non-null  object \n",
      " 1   end_date                120823 non-null  object \n",
      " 2   region                  120823 non-null  object \n",
      " 3   state                   120823 non-null  object \n",
      " 4   product                 120823 non-null  object \n",
      " 5   stations_surveyed       120823 non-null  int64  \n",
      " 6   unit_of_measure         120823 non-null  object \n",
      " 7   avg_retail_price        120823 non-null  float64\n",
      " 8   retail_price_std        120823 non-null  float64\n",
      " 9   min_retail_price        120823 non-null  float64\n",
      " 10  max_retail_price        120823 non-null  float64\n",
      " 11  avg_retail_margin       120823 non-null  object \n",
      " 12  retail_price_cv         120823 non-null  float64\n",
      " 13  avg_distribution_price  120823 non-null  object \n",
      " 14  distribution_price_std  120823 non-null  object \n",
      " 15  min_distribution_price  120823 non-null  object \n",
      " 16  max_distribution_price  120823 non-null  object \n",
      " 17  distribution_price_cv   120823 non-null  object \n",
      "dtypes: float64(5), int64(1), object(12)\n",
      "memory usage: 16.6+ MB\n"
     ]
    }
   ],
   "source": [
    "# check the data information\n",
    "print(\"\\n🔍 Checking dataset information...\")\n",
    "df_english.info()"
   ]
  },
  {
   "cell_type": "code",
   "execution_count": 10,
   "id": "323e7854",
   "metadata": {},
   "outputs": [
    {
     "name": "stdout",
     "output_type": "stream",
     "text": [
      "\n",
      "🧹 Data Cleaning and Preprocessing...\n",
      "✅ Date columns converted to datetime format.\n",
      "\n",
      "🔄 Replacing NULL values with -99999...\n",
      "✅ NULL values replaced successfully.\n"
     ]
    }
   ],
   "source": [
    "# data cleaning and preprocessing\n",
    "print(\"\\n🧹 Data Cleaning and Preprocessing...\")\n",
    "# Convert date columns to datetime format\n",
    "df_english['start_date'] = pd.to_datetime(df_english['start_date']).dt.date\n",
    "df_english['end_date'] = pd.to_datetime(df_english['end_date']).dt.date\n",
    " \n",
    "print(\"✅ Date columns converted to datetime format.\")\n",
    "\n",
    "# Create additional useful columns\n",
    "df_english['year'] = df_english['start_date'].apply(lambda x: x.year)\n",
    "df_english['month'] = df_english['start_date'].apply(lambda x: x.month)\n",
    "df_english['quarter'] = df_english['start_date'].apply(lambda x: (x.month - 1) // 3 + 1)\n",
    "df_english['price_range'] = df_english['max_retail_price'] - df_english['min_retail_price']\n",
    "\n",
    "# Handle NULL values (replace -99999 with NaN)\n",
    "\n",
    "print(\"\\n🔄 Replacing NULL values with -99999...\")\n",
    "numeric_columns = df_english.select_dtypes(include=[np.number]).columns\n",
    "df_english[numeric_columns] = df_english[numeric_columns].replace(-99999, np.nan)\n",
    "print(\"✅ NULL values replaced successfully.\")\n"
   ]
  },
  {
   "cell_type": "code",
   "execution_count": 11,
   "id": "919d3fea",
   "metadata": {},
   "outputs": [
    {
     "name": "stdout",
     "output_type": "stream",
     "text": [
      "\n",
      "🔄 Removing any remaining null values in key columns...\n",
      "✅ Remaining null values removed successfully.\n",
      "✅ Data cleaning completed!\n",
      "Final dataset: 120,823 records\n",
      "Date range: 2004-05-09 to 2021-04-25\n"
     ]
    }
   ],
   "source": [
    "\n",
    "# Remove any remaining null values in key columns\n",
    "print(\"\\n🔄 Removing any remaining null values in key columns...\")\n",
    "df_english.dropna(subset=['avg_retail_price', 'region', 'state', 'product'], inplace=True)\n",
    "print(\"✅ Remaining null values removed successfully.\")\n",
    "\n",
    "print(f\"✅ Data cleaning completed!\")\n",
    "print(f\"Final dataset: {len(df_english):,} records\")\n",
    "print(f\"Date range: {df_english['start_date'].min()} to {df_english['start_date'].max()}\")\n",
    "# Save the cleaned dataset to a new CSV file\n",
    "#output_file = 'anp_gas_prices_cleaned.csv'\n",
    "#df_english.to_csv(output_file, index=False)\n",
    "#print(f\"📂 Cleaned dataset saved to {output_file}\")"
   ]
  },
  {
   "cell_type": "code",
   "execution_count": 12,
   "id": "60d50191",
   "metadata": {},
   "outputs": [
    {
     "name": "stdout",
     "output_type": "stream",
     "text": [
      "\n",
      "🔍 Exploratory Data Analysis\n",
      "💰 Price Statistics by Product:\n",
      "                   count    mean     std     min      max\n",
      "product                                                  \n",
      "ADDITIVE GASOLINE    749   5.049   0.513   3.849    6.683\n",
      "DIESEL OIL         23545   2.551   0.714   1.313    5.849\n",
      "DIESEL OIL S10     11489   3.270   0.526   2.130    5.861\n",
      "HYDRATED ETHANOL   23440   2.445   0.738   0.766    5.960\n",
      "LPG                23561  47.655  15.927  28.026  107.500\n",
      "NGV                14469   2.033   0.654   0.975    4.779\n",
      "REGULAR GASOLINE   23570   3.195   0.771   1.888    6.688\n"
     ]
    }
   ],
   "source": [
    "# explore the data analysis\n",
    "print(\"\\n🔍 Exploratory Data Analysis\")\n",
    "# Basic statistics\n",
    "print(\"💰 Price Statistics by Product:\")\n",
    "price_stats = df_english.groupby('product')['avg_retail_price'].agg([\n",
    "    'count', 'mean', 'std', 'min', 'max'\n",
    "]).round(3)\n",
    "print(price_stats)\n",
    "\n",
    "#save the price statistics to a CSV file\n",
    "#price_stats.to_csv('price_statistics_by_product.csv')"
   ]
  },
  {
   "cell_type": "code",
   "execution_count": 13,
   "id": "e270363c",
   "metadata": {},
   "outputs": [
    {
     "name": "stdout",
     "output_type": "stream",
     "text": [
      "\n",
      "🗺️ Regional Coverage:\n",
      "              unique_states  total_stations  avg_price\n",
      "region                                                \n",
      "CENTRO OESTE              4         2284267     12.441\n",
      "NORDESTE                  9         4882880     10.663\n",
      "NORTE                     7         1754917     13.412\n",
      "SUDESTE                   4        12981725     10.217\n",
      "SUL                       3         4806124     10.562\n"
     ]
    }
   ],
   "source": [
    "print(\"\\n🗺️ Regional Coverage:\")\n",
    "regional_coverage = df_english.groupby('region').agg({\n",
    "    'state': 'nunique',\n",
    "    'stations_surveyed': 'sum',\n",
    "    'avg_retail_price': 'mean'\n",
    "}).round(3)\n",
    "regional_coverage.columns = ['unique_states', 'total_stations', 'avg_price']\n",
    "print(regional_coverage)\n",
    "# Save regional coverage to a CSV file\n",
    "#regional_coverage.to_csv('regional_coverage.csv')"
   ]
  },
  {
   "cell_type": "code",
   "execution_count": 14,
   "id": "6a3ff73f",
   "metadata": {},
   "outputs": [
    {
     "name": "stdout",
     "output_type": "stream",
     "text": [
      "\n",
      "📊 Visualizing Data it will be done using Power BI or Tableau\n"
     ]
    }
   ],
   "source": [
    "# the visualization part will be done using power bi or tableau\n",
    "print(\"\\n📊 Visualizing Data it will be done using Power BI or Tableau\")"
   ]
  },
  {
   "cell_type": "code",
   "execution_count": 15,
   "id": "3ec38a0c",
   "metadata": {},
   "outputs": [
    {
     "name": "stdout",
     "output_type": "stream",
     "text": [
      "🔍 Key Insights from Price Statistics by Product:\n",
      "\n",
      "\n",
      "1. **ADDITIVE GASOLINE** has the highest average price (mean: 5.049), with a wide range from 3.849 to 6.683. \n",
      "   - This indicates a premium product likely targeting a specific customer base.\n",
      "2. **LPG (Liquefied Petroleum Gas)** has an exceptionally high average price (mean: 47.655) with significant variability (std: 15.927). \n",
      "   - This could reflect bulk pricing or regional disparities in demand.\n",
      "3. **DIESEL OIL S10** is priced higher (mean: 3.270) than regular **DIESEL OIL** (mean: 2.551), suggesting it might be a higher-quality or more efficient variant.\n",
      "4. **HYDRATED ETHANOL** has the lowest mean price (2.445) among all fuel types but shows considerable variability (std: 0.738).\n",
      "5. **REGULAR GASOLINE** is priced reasonably (mean: 3.195) but exhibits a broad range from 1.888 to 6.688, highlighting potential regional price differences or supply chain impacts.\n",
      "\n",
      "\n"
     ]
    }
   ],
   "source": [
    "# Key Insights and Business Intelligence\n",
    "\n",
    "# 💰 Price Statistics by Product\n",
    "print(\"🔍 Key Insights from Price Statistics by Product:\\n\")\n",
    "print(\"\"\"\n",
    "1. **ADDITIVE GASOLINE** has the highest average price (mean: 5.049), with a wide range from 3.849 to 6.683. \n",
    "   - This indicates a premium product likely targeting a specific customer base.\n",
    "2. **LPG (Liquefied Petroleum Gas)** has an exceptionally high average price (mean: 47.655) with significant variability (std: 15.927). \n",
    "   - This could reflect bulk pricing or regional disparities in demand.\n",
    "3. **DIESEL OIL S10** is priced higher (mean: 3.270) than regular **DIESEL OIL** (mean: 2.551), suggesting it might be a higher-quality or more efficient variant.\n",
    "4. **HYDRATED ETHANOL** has the lowest mean price (2.445) among all fuel types but shows considerable variability (std: 0.738).\n",
    "5. **REGULAR GASOLINE** is priced reasonably (mean: 3.195) but exhibits a broad range from 1.888 to 6.688, highlighting potential regional price differences or supply chain impacts.\n",
    "\n",
    "\"\"\")\n",
    "\n"
   ]
  },
  {
   "cell_type": "code",
   "execution_count": 16,
   "id": "fd26b25e",
   "metadata": {},
   "outputs": [
    {
     "name": "stdout",
     "output_type": "stream",
     "text": [
      "🔍 Key Insights from Regional Coverage:\n",
      "\n",
      "\n",
      "1. **SUDESTE** region has the highest total stations surveyed (12,981,725), indicating a significant market presence and activity.\n",
      "2. **NORTE** region has the highest average price (13.412), which could signal logistical challenges or regional pricing policies.\n",
      "3. **CENTRO OESTE** region has relatively fewer unique states (4) but reports the highest average price per station (12.441).\n",
      "4. **NORDESTE** region, despite having the most unique states (9), shows a competitive average price (10.663), suggesting diversified pricing strategies.\n",
      "5. **SUL** region has the lowest unique states (3) and maintains a competitive average price (10.562), indicating consistent market conditions.\n",
      "\n",
      "\n"
     ]
    }
   ],
   "source": [
    "# 🗺️ Regional Coverage\n",
    "print(\"🔍 Key Insights from Regional Coverage:\\n\")\n",
    "print(\"\"\"\n",
    "1. **SUDESTE** region has the highest total stations surveyed (12,981,725), indicating a significant market presence and activity.\n",
    "2. **NORTE** region has the highest average price (13.412), which could signal logistical challenges or regional pricing policies.\n",
    "3. **CENTRO OESTE** region has relatively fewer unique states (4) but reports the highest average price per station (12.441).\n",
    "4. **NORDESTE** region, despite having the most unique states (9), shows a competitive average price (10.663), suggesting diversified pricing strategies.\n",
    "5. **SUL** region has the lowest unique states (3) and maintains a competitive average price (10.562), indicating consistent market conditions.\n",
    "\n",
    "\"\"\")\n"
   ]
  }
 ],
 "metadata": {
  "kernelspec": {
   "display_name": "Python 3",
   "language": "python",
   "name": "python3"
  },
  "language_info": {
   "codemirror_mode": {
    "name": "ipython",
    "version": 3
   },
   "file_extension": ".py",
   "mimetype": "text/x-python",
   "name": "python",
   "nbconvert_exporter": "python",
   "pygments_lexer": "ipython3",
   "version": "3.13.2"
  }
 },
 "nbformat": 4,
 "nbformat_minor": 5
}
